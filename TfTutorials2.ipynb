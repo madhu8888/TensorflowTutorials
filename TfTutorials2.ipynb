{
  "nbformat": 4,
  "nbformat_minor": 0,
  "metadata": {
    "colab": {
      "name": "TfTutorials2.ipynb",
      "provenance": []
    },
    "kernelspec": {
      "name": "python3",
      "display_name": "Python 3"
    }
  },
  "cells": [
    {
      "cell_type": "code",
      "metadata": {
        "id": "7FI-xsLcm1dh",
        "colab_type": "code",
        "colab": {
          "base_uri": "https://localhost:8080/",
          "height": 34
        },
        "outputId": "f3528ba5-7e6c-4a44-bffb-b72908194e96"
      },
      "source": [
        "import tensorflow as tf\n",
        "print(tf.__version__)"
      ],
      "execution_count": 4,
      "outputs": [
        {
          "output_type": "stream",
          "text": [
            "2.2.0\n"
          ],
          "name": "stdout"
        }
      ]
    },
    {
      "cell_type": "code",
      "metadata": {
        "id": "nXwzXJf2oG-y",
        "colab_type": "code",
        "colab": {
          "base_uri": "https://localhost:8080/",
          "height": 136
        },
        "outputId": "0d1a90e6-7e32-4382-8d7f-d529ef6d7a23"
      },
      "source": [
        "import numpy as np\n",
        "celsius = np.array([-40,-10,0,8,15,22,38],dtype=float)\n",
        "fahreinheit = np.array([-40,-14,32,46,59,72,100],dtype=float)\n",
        "for i,e in enumerate(celsius):\n",
        "  print(\"{} celsius is equal to {} fahreinheit\".format(e,fahreinheit[i]))"
      ],
      "execution_count": 6,
      "outputs": [
        {
          "output_type": "stream",
          "text": [
            "-40.0 celsius is equal to -40.0 fahreinheit\n",
            "-10.0 celsius is equal to -14.0 fahreinheit\n",
            "0.0 celsius is equal to 32.0 fahreinheit\n",
            "8.0 celsius is equal to 46.0 fahreinheit\n",
            "15.0 celsius is equal to 59.0 fahreinheit\n",
            "22.0 celsius is equal to 72.0 fahreinheit\n",
            "38.0 celsius is equal to 100.0 fahreinheit\n"
          ],
          "name": "stdout"
        }
      ]
    },
    {
      "cell_type": "code",
      "metadata": {
        "id": "n_F5i3YJp9x4",
        "colab_type": "code",
        "colab": {}
      },
      "source": [
        "l0 = tf.keras.layers.Dense(units=1, input_shape = [1])"
      ],
      "execution_count": 0,
      "outputs": []
    },
    {
      "cell_type": "code",
      "metadata": {
        "id": "bMrfQdO-qPRF",
        "colab_type": "code",
        "colab": {}
      },
      "source": [
        "model = tf.keras.Sequential(l0)"
      ],
      "execution_count": 0,
      "outputs": []
    },
    {
      "cell_type": "code",
      "metadata": {
        "id": "FmI55hMfqgFL",
        "colab_type": "code",
        "colab": {}
      },
      "source": [
        "model = tf.keras.Sequential(\n",
        "    tf.keras.layers.Dense(unit=1, input_shape=[1])\n",
        ")"
      ],
      "execution_count": 0,
      "outputs": []
    },
    {
      "cell_type": "code",
      "metadata": {
        "id": "uGLfuHEqqzYQ",
        "colab_type": "code",
        "colab": {}
      },
      "source": [
        "\n",
        "# 0.1 here is the learning rate\n",
        "model.compile(loss = 'mean_squared_error', optimizer= tf.keras.optimizers.Adam(0.1))"
      ],
      "execution_count": 0,
      "outputs": []
    },
    {
      "cell_type": "code",
      "metadata": {
        "id": "IIOtMHmIra4y",
        "colab_type": "code",
        "colab": {
          "base_uri": "https://localhost:8080/",
          "height": 34
        },
        "outputId": "ee39d027-9f83-4357-ade4-13aa3e8446c8"
      },
      "source": [
        "# model training, epochs means the whole examples are processed that many time here 500 multipled by 7 i.e. 3500 times\n",
        "history = model.fit(celsius,fahreinheit,epochs=500,verbose=False)\n",
        "print(\"Finished training\")"
      ],
      "execution_count": 12,
      "outputs": [
        {
          "output_type": "stream",
          "text": [
            "Finished training\n"
          ],
          "name": "stdout"
        }
      ]
    },
    {
      "cell_type": "code",
      "metadata": {
        "id": "6mJAa3gusLI0",
        "colab_type": "code",
        "colab": {
          "base_uri": "https://localhost:8080/",
          "height": 296
        },
        "outputId": "6f4c35c3-5718-4b99-b6d2-93adece56cb8"
      },
      "source": [
        "import matplotlib.pyplot as plt\n",
        "plt.xlabel(\"Epoch number\")\n",
        "plt.ylabel(\"Loss\")\n",
        "plt.plot(history.history['loss'])"
      ],
      "execution_count": 13,
      "outputs": [
        {
          "output_type": "execute_result",
          "data": {
            "text/plain": [
              "[<matplotlib.lines.Line2D at 0x7f23fae516a0>]"
            ]
          },
          "metadata": {
            "tags": []
          },
          "execution_count": 13
        },
        {
          "output_type": "display_data",
          "data": {
            "image/png": "[encoded data removed]",
            "text/plain": [
              "<Figure size 432x288 with 1 Axes>"
            ]
          },
          "metadata": {
            "tags": [],
            "needs_background": "light"
          }
        }
      ]
    },
    {
      "cell_type": "code",
      "metadata": {
        "id": "N2W75nj6skT8",
        "colab_type": "code",
        "colab": {
          "base_uri": "https://localhost:8080/",
          "height": 34
        },
        "outputId": "117fa524-1594-47b9-b0ec-7210bf5fcb6c"
      },
      "source": [
        "# make predictions from our model\n",
        "print(model.predict([100.0]))"
      ],
      "execution_count": 15,
      "outputs": [
        {
          "output_type": "stream",
          "text": [
            "[[217.97417]]\n"
          ],
          "name": "stdout"
        }
      ]
    },
    {
      "cell_type": "code",
      "metadata": {
        "id": "wzs6xnwHuRQ5",
        "colab_type": "code",
        "colab": {
          "base_uri": "https://localhost:8080/",
          "height": 34
        },
        "outputId": "498fddaa-3073-4d79-b160-a9b1243442ee"
      },
      "source": [
        "print(\"These are the layer's internal weight {}\".format(l0.get_weights()))"
      ],
      "execution_count": 17,
      "outputs": [
        {
          "output_type": "stream",
          "text": [
            "These are the layer's internal weight [array([[1.9203771]], dtype=float32), array([25.93645], dtype=float32)]\n"
          ],
          "name": "stdout"
        }
      ]
    },
    {
      "cell_type": "markdown",
      "metadata": {
        "id": "4XeUGYbYuyTm",
        "colab_type": "text"
      },
      "source": [
        "**Try another model with more layers**"
      ]
    },
    {
      "cell_type": "code",
      "metadata": {
        "id": "Wpjq-lKzuvO0",
        "colab_type": "code",
        "colab": {
          "base_uri": "https://localhost:8080/",
          "height": 221
        },
        "outputId": "2c153df2-370d-40de-b2b4-0cb5594869c2"
      },
      "source": [
        "# Another model\n",
        "l0= tf.keras.layers.Dense(units=4, input_shape=[1])\n",
        "l1= tf.keras.layers.Dense(units=4)\n",
        "l2= tf.keras.layers.Dense(units=1)\n",
        "model = tf.keras.Sequential([l0,l1,l2])\n",
        "model.compile(loss='mean_squared_error', optimizer= tf.keras.optimizers.Adam(0.1))\n",
        "history = model.fit(celsius,fahreinheit,epochs=500, verbose= False)\n",
        "print(model.predict([100.0]))\n",
        "print(\"These are the l0 layer's internal weight {}\".format(l0.get_weights()))\n",
        "print(\"These are the l1 layer's internal weight {}\".format(l1.get_weights()))\n",
        "print(\"These are the l2 layer's internal weight {}\".format(l2.get_weights()))"
      ],
      "execution_count": 19,
      "outputs": [
        {
          "output_type": "stream",
          "text": [
            "[[218.18436]]\n",
            "These are the l0 layer's internal weight [array([[ 0.04373684, -0.48395354, -0.6872428 ,  0.18065707]],\n",
            "      dtype=float32), array([-2.7165804 , -3.4929323 , -3.5917377 , -0.96777916], dtype=float32)]\n",
            "These are the l1 layer's internal weight [array([[ 0.22199747, -0.94438666, -1.2791177 ,  0.16609757],\n",
            "       [-0.66485953,  0.03199373, -1.3753529 , -0.5932032 ],\n",
            "       [ 0.4489276 , -0.35518864,  0.09755347, -1.4481264 ],\n",
            "       [-0.7888934 , -0.06901135, -0.7015798 , -0.07569989]],\n",
            "      dtype=float32), array([-2.6308537, -0.4960567,  3.3618224,  3.2594202], dtype=float32)]\n",
            "These are the l2 layer's internal weight [array([[-0.32981488],\n",
            "       [-0.09154458],\n",
            "       [ 1.0335293 ],\n",
            "       [ 1.1397835 ]], dtype=float32), array([3.212799], dtype=float32)]\n"
          ],
          "name": "stdout"
        }
      ]
    }
  ]
}